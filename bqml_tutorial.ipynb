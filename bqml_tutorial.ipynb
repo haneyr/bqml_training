{
 "cells": [
  {
   "cell_type": "code",
   "execution_count": null,
   "metadata": {},
   "outputs": [],
   "source": [
    "# Copyright 2019 Google LLC\n",
    "#\n",
    "# Licensed under the Apache License, Version 2.0 (the \"License\");\n",
    "# you may not use this file except in compliance with the License.\n",
    "# You may obtain a copy of the License at\n",
    "#\n",
    "#     https://www.apache.org/licenses/LICENSE-2.0\n",
    "#\n",
    "# Unless required by applicable law or agreed to in writing, software\n",
    "# distributed under the License is distributed on an \"AS IS\" BASIS,\n",
    "# WITHOUT WARRANTIES OR CONDITIONS OF ANY KIND, either express or implied.\n",
    "# See the License for the specific language governing permissions and\n",
    "# limitations under the License."
   ]
  },
  {
   "cell_type": "markdown",
   "metadata": {},
   "source": [
    "# Overview\n",
    "In this notebook we perform purchase prediction analysis using logistic regression, a simple supervised learning technique to predicted binary outcomes using historical data.\n",
    "\n",
    "## Dataset\n",
    "In this tutorial, you use the sample [Google Analytics sample dataset for BigQuery](https://support.google.com/analytics/answer/7586738?hl=en&ref_topic=3416089) to create a model that predicts whether a website visitor will make a transaction. For information on the schema of the Analytics dataset, see [BigQuery export schema](https://support.google.com/analytics/answer/3437719) in the Google Analytics Help Center.\n",
    "\n",
    "\n",
    "## Objectives\n",
    "Make predictions about purchase propensity for different groups of customers that can be synced into marketing platforms. We also refer to this as lead-scoring, propensity modeling, conversion prediction. \n",
    "\n",
    "Marketing decision makers will often say, “We are missing out on opportunities to reach customers at the moment of consideration and we're taking too long to optimize (insight --> action)”. In this tutorial, you use:\n",
    "\n",
    "+ BigQuery ML to create a binary logistic regression model using the `CREATE MODEL` statement\n",
    "+ The `ML.EVALUATE` function to evaluate the ML model\n",
    "+ The `ML.PREDICT` function to make predictions using the ML model\n",
    "+ The BigQuery API to save these prediction scores in BQ, creating a dataset and table in your GCP project\n",
    "\n",
    "These steps provide the basis of pushing predictive segments into Google Analytics 360 to target or supress in media campaigns.\n",
    "\n",
    "## Costs\n",
    "This tutorial uses billable components of Google Cloud Platform (GCP):\n",
    "\n",
    "+ Cloud AI Platform\n",
    "+ BigQuery ML\n",
    "Learn about Cloud AI Platform pricing and BigQuery ML pricing, use the Pricing Calculator to generate a cost estimate based on your projected usage.\n",
    "\n",
    "## Set up your GCP project\n",
    "**The following steps are required, regardless of your notebook environment.**\n",
    "\n",
    "1. Select or create a GCP project. When you first create an account, you get a $300 free credit towards your compute/storage costs.\n",
    "2. Make sure that billing is enabled for your project.\n",
    "3. Enable the AI Platform APIs and Compute Engine APIs.\n",
    "4. Enter your project ID in the cell below. Then run the cell to make sure the Cloud SDK uses the right project for all the commands in this notebook.\n",
    "\n",
    "**Note:** Jupyter runs lines prefixed with ! as shell commands, and it interpolates Python variables prefixed with $ into these commands."
   ]
  },
  {
   "cell_type": "markdown",
   "metadata": {},
   "source": [
    "## Create your dataset\n",
    "\n",
    "Enter the following code to import the BigQuery Python client library and initialize a client. The BigQuery client is used to send and receive messages from the BigQuery API."
   ]
  },
  {
   "cell_type": "code",
   "execution_count": 1,
   "metadata": {},
   "outputs": [],
   "source": [
    "from google.cloud import bigquery\n",
    "\n",
    "client = bigquery.Client(location=\"US\")\n",
    "dataset_id = \"bqml_tutorial_<USERNAME>\""
   ]
  },
  {
   "cell_type": "markdown",
   "metadata": {},
   "source": [
    "Next, you create a BigQuery dataset to store your ML model. Run the following to create your dataset:"
   ]
  },
  {
   "cell_type": "code",
   "execution_count": 2,
   "metadata": {},
   "outputs": [],
   "source": [
    "dataset = client.create_dataset(dataset_id)"
   ]
  },
  {
   "cell_type": "markdown",
   "metadata": {},
   "source": [
    "## Create your model\n",
    "\n",
    "Next, you create a logistic regression model using the Google Analytics sample\n",
    "dataset for BigQuery. The model is used to predict whether a\n",
    "website visitor will make a transaction. The standard SQL query uses a\n",
    "`CREATE MODEL` statement to create and train the model. Standard SQL is the\n",
    "default query syntax for the BigQuery python client library.\n",
    "\n",
    "The BigQuery python client library provides a cell magic,\n",
    "`%%bigquery`, which runs a SQL query and returns the results as a Pandas\n",
    "`DataFrame`.\n",
    "\n",
    "To run the `CREATE MODEL` query to create and train your model:"
   ]
  },
  {
   "cell_type": "code",
   "execution_count": 3,
   "metadata": {},
   "outputs": [
    {
     "name": "stderr",
     "output_type": "stream",
     "text": [
      "Query complete after 0.01s: 100%|██████████| 3/3 [00:00<00:00, 1421.16query/s]                        \n"
     ]
    }
   ],
   "source": [
    "%%bigquery training_data\n",
    "CREATE OR REPLACE MODEL `bqml_tutorial_<USERNAME>.sample_model`\n",
    "OPTIONS(model_type='logistic_reg') AS\n",
    "SELECT\n",
    "  IF(totals.transactions IS NULL, 0, 1) AS label,\n",
    "  IFNULL(device.operatingSystem, \"\") AS os,\n",
    "  device.isMobile AS is_mobile,\n",
    "  IFNULL(geoNetwork.country, \"\") AS country,\n",
    "  IFNULL(totals.pageviews, 0) AS pageviews\n",
    "FROM\n",
    "  `bigquery-public-data.google_analytics_sample.ga_sessions_*`\n",
    "WHERE\n",
    "  _TABLE_SUFFIX BETWEEN '20160801' AND '20170630'"
   ]
  },
  {
   "cell_type": "markdown",
   "metadata": {},
   "source": [
    "The query takes several minutes to complete. After the first iteration is\n",
    "complete, your model (`sample_model`) appears in the navigation panel of the\n",
    "BigQuery web UI."
   ]
  },
  {
   "cell_type": "markdown",
   "metadata": {},
   "source": [
    "## Get training statistics\n",
    "\n",
    "To see the results of the model training, you can use the\n",
    "[`ML.TRAINING_INFO`](https://cloud.google.com/bigquery/docs/reference/standard-sql/bigqueryml-syntax-train)\n",
    "function, or you can view the statistics in the BigQuery web UI. This functionality\n",
    "is not currently available in the BigQuery Classic web UI.\n",
    "In this tutorial, you use the `ML.TRAINING_INFO` function.\n",
    "\n",
    "A machine learning algorithm builds a model by examining many examples and\n",
    "attempting to find a model that minimizes loss. This process is called empirical\n",
    "risk minimization.\n",
    "\n",
    "Loss is the penalty for a bad prediction &mdash; a number indicating\n",
    "how bad the model's prediction was on a single example. If the model's\n",
    "prediction is perfect, the loss is zero; otherwise, the loss is greater. The\n",
    "goal of training a model is to find a set of weights that have low\n",
    "loss, on average, across all examples.\n",
    "\n",
    "To see the model training statistics that were generated when you ran the\n",
    "`CREATE MODEL` query:"
   ]
  },
  {
   "cell_type": "code",
   "execution_count": 4,
   "metadata": {},
   "outputs": [
    {
     "name": "stderr",
     "output_type": "stream",
     "text": [
      "Query complete after 0.00s: 100%|██████████| 2/2 [00:00<00:00, 1048.05query/s]                        \n",
      "Downloading: 100%|██████████| 9/9 [00:01<00:00,  6.79rows/s]\n"
     ]
    },
    {
     "data": {
      "text/html": [
       "<div>\n",
       "<style scoped>\n",
       "    .dataframe tbody tr th:only-of-type {\n",
       "        vertical-align: middle;\n",
       "    }\n",
       "\n",
       "    .dataframe tbody tr th {\n",
       "        vertical-align: top;\n",
       "    }\n",
       "\n",
       "    .dataframe thead th {\n",
       "        text-align: right;\n",
       "    }\n",
       "</style>\n",
       "<table border=\"1\" class=\"dataframe\">\n",
       "  <thead>\n",
       "    <tr style=\"text-align: right;\">\n",
       "      <th></th>\n",
       "      <th>training_run</th>\n",
       "      <th>iteration</th>\n",
       "      <th>loss</th>\n",
       "      <th>eval_loss</th>\n",
       "      <th>learning_rate</th>\n",
       "      <th>duration_ms</th>\n",
       "    </tr>\n",
       "  </thead>\n",
       "  <tbody>\n",
       "    <tr>\n",
       "      <th>0</th>\n",
       "      <td>0</td>\n",
       "      <td>8</td>\n",
       "      <td>0.043878</td>\n",
       "      <td>0.045445</td>\n",
       "      <td>25.6</td>\n",
       "      <td>16477</td>\n",
       "    </tr>\n",
       "    <tr>\n",
       "      <th>1</th>\n",
       "      <td>0</td>\n",
       "      <td>7</td>\n",
       "      <td>0.044654</td>\n",
       "      <td>0.045499</td>\n",
       "      <td>25.6</td>\n",
       "      <td>16306</td>\n",
       "    </tr>\n",
       "    <tr>\n",
       "      <th>2</th>\n",
       "      <td>0</td>\n",
       "      <td>6</td>\n",
       "      <td>0.047345</td>\n",
       "      <td>0.048273</td>\n",
       "      <td>12.8</td>\n",
       "      <td>15691</td>\n",
       "    </tr>\n",
       "    <tr>\n",
       "      <th>3</th>\n",
       "      <td>0</td>\n",
       "      <td>5</td>\n",
       "      <td>0.053888</td>\n",
       "      <td>0.053337</td>\n",
       "      <td>6.4</td>\n",
       "      <td>15297</td>\n",
       "    </tr>\n",
       "    <tr>\n",
       "      <th>4</th>\n",
       "      <td>0</td>\n",
       "      <td>4</td>\n",
       "      <td>0.067776</td>\n",
       "      <td>0.066406</td>\n",
       "      <td>3.2</td>\n",
       "      <td>14932</td>\n",
       "    </tr>\n",
       "    <tr>\n",
       "      <th>5</th>\n",
       "      <td>0</td>\n",
       "      <td>3</td>\n",
       "      <td>0.097545</td>\n",
       "      <td>0.096203</td>\n",
       "      <td>1.6</td>\n",
       "      <td>17835</td>\n",
       "    </tr>\n",
       "    <tr>\n",
       "      <th>6</th>\n",
       "      <td>0</td>\n",
       "      <td>2</td>\n",
       "      <td>0.169802</td>\n",
       "      <td>0.168849</td>\n",
       "      <td>0.8</td>\n",
       "      <td>14820</td>\n",
       "    </tr>\n",
       "    <tr>\n",
       "      <th>7</th>\n",
       "      <td>0</td>\n",
       "      <td>1</td>\n",
       "      <td>0.320692</td>\n",
       "      <td>0.320174</td>\n",
       "      <td>0.4</td>\n",
       "      <td>16304</td>\n",
       "    </tr>\n",
       "    <tr>\n",
       "      <th>8</th>\n",
       "      <td>0</td>\n",
       "      <td>0</td>\n",
       "      <td>0.521573</td>\n",
       "      <td>0.521380</td>\n",
       "      <td>0.2</td>\n",
       "      <td>11844</td>\n",
       "    </tr>\n",
       "  </tbody>\n",
       "</table>\n",
       "</div>"
      ],
      "text/plain": [
       "   training_run  iteration      loss  eval_loss  learning_rate  duration_ms\n",
       "0             0          8  0.043878   0.045445           25.6        16477\n",
       "1             0          7  0.044654   0.045499           25.6        16306\n",
       "2             0          6  0.047345   0.048273           12.8        15691\n",
       "3             0          5  0.053888   0.053337            6.4        15297\n",
       "4             0          4  0.067776   0.066406            3.2        14932\n",
       "5             0          3  0.097545   0.096203            1.6        17835\n",
       "6             0          2  0.169802   0.168849            0.8        14820\n",
       "7             0          1  0.320692   0.320174            0.4        16304\n",
       "8             0          0  0.521573   0.521380            0.2        11844"
      ]
     },
     "execution_count": 4,
     "metadata": {},
     "output_type": "execute_result"
    }
   ],
   "source": [
    "%%bigquery\n",
    "SELECT\n",
    "  *\n",
    "FROM\n",
    "  ML.TRAINING_INFO(MODEL `bqml_tutorial_<USERNAME>.sample_model`)"
   ]
  },
  {
   "cell_type": "markdown",
   "metadata": {},
   "source": [
    "Note: Typically, it is not a best practice to use a `SELECT *` query. Because the model output is a small table, this query does not process a large amount of data. As a result, the cost is minimal."
   ]
  },
  {
   "cell_type": "markdown",
   "metadata": {},
   "source": [
    "When the query is complete, the results appear below the query. The results should look like the following:\n",
    "\n",
    "![Training statistics table](https://i.imgur.com/DkeKSpB.png)"
   ]
  },
  {
   "cell_type": "markdown",
   "metadata": {},
   "source": [
    "The `loss` column represents the loss metric calculated after the given iteration\n",
    "on the training dataset. Since you performed a logistic regression, this column\n",
    "is the [log loss](https://en.wikipedia.org/wiki/Cross_entropy#Cross-entropy_error_function_and_logistic_regression).\n",
    "The `eval_loss` column is the same loss metric calculated on\n",
    "the holdout dataset (data that is held back from training to validate the model).\n",
    "\n",
    "For more details on the `ML.TRAINING_INFO` function, see the\n",
    "[BigQuery ML syntax reference](https://cloud.google.com/bigquery/docs/reference/standard-sql/bigqueryml-syntax-train)."
   ]
  },
  {
   "cell_type": "markdown",
   "metadata": {},
   "source": [
    "## Evaluate your model\n",
    "\n",
    "After creating your model, you evaluate the performance of the classifier using\n",
    "the [`ML.EVALUATE`](https://cloud.google.com/bigquery/docs/reference/standard-sql/bigqueryml-syntax-evaluate)\n",
    "function. You can also use the [`ML.ROC_CURVE`](https://cloud.google.com/bigquery/docs/reference/standard-sql/bigqueryml-syntax-roc)\n",
    "function for logistic regression specific metrics.\n",
    "\n",
    "A classifier is one of a set of enumerated target values for a label. For\n",
    "example, in this tutorial you are using a binary classification model that\n",
    "detects transactions. The two classes are the values in the `label` column:\n",
    "`0` (no transactions) and not `1` (transaction made).\n",
    "\n",
    "To run the `ML.EVALUATE` query that evaluates the model:"
   ]
  },
  {
   "cell_type": "code",
   "execution_count": 5,
   "metadata": {},
   "outputs": [
    {
     "name": "stderr",
     "output_type": "stream",
     "text": [
      "Query complete after 0.00s: 100%|██████████| 6/6 [00:00<00:00, 2614.09query/s]                        \n",
      "Downloading: 100%|██████████| 1/1 [00:01<00:00,  1.21s/rows]\n"
     ]
    },
    {
     "data": {
      "text/html": [
       "<div>\n",
       "<style scoped>\n",
       "    .dataframe tbody tr th:only-of-type {\n",
       "        vertical-align: middle;\n",
       "    }\n",
       "\n",
       "    .dataframe tbody tr th {\n",
       "        vertical-align: top;\n",
       "    }\n",
       "\n",
       "    .dataframe thead th {\n",
       "        text-align: right;\n",
       "    }\n",
       "</style>\n",
       "<table border=\"1\" class=\"dataframe\">\n",
       "  <thead>\n",
       "    <tr style=\"text-align: right;\">\n",
       "      <th></th>\n",
       "      <th>precision</th>\n",
       "      <th>recall</th>\n",
       "      <th>accuracy</th>\n",
       "      <th>f1_score</th>\n",
       "      <th>log_loss</th>\n",
       "      <th>roc_auc</th>\n",
       "    </tr>\n",
       "  </thead>\n",
       "  <tbody>\n",
       "    <tr>\n",
       "      <th>0</th>\n",
       "      <td>0.468504</td>\n",
       "      <td>0.110801</td>\n",
       "      <td>0.985343</td>\n",
       "      <td>0.179217</td>\n",
       "      <td>0.046242</td>\n",
       "      <td>0.981742</td>\n",
       "    </tr>\n",
       "  </tbody>\n",
       "</table>\n",
       "</div>"
      ],
      "text/plain": [
       "   precision    recall  accuracy  f1_score  log_loss   roc_auc\n",
       "0   0.468504  0.110801  0.985343  0.179217  0.046242  0.981742"
      ]
     },
     "execution_count": 5,
     "metadata": {},
     "output_type": "execute_result"
    }
   ],
   "source": [
    "%%bigquery\n",
    "SELECT\n",
    "  *\n",
    "FROM ML.EVALUATE(MODEL `bqml_tutorial_<USERNAME>.sample_model`, (\n",
    "  SELECT\n",
    "    IF(totals.transactions IS NULL, 0, 1) AS label,\n",
    "    IFNULL(device.operatingSystem, \"\") AS os,\n",
    "    device.isMobile AS is_mobile,\n",
    "    IFNULL(geoNetwork.country, \"\") AS country,\n",
    "    IFNULL(totals.pageviews, 0) AS pageviews\n",
    "  FROM\n",
    "    `bigquery-public-data.google_analytics_sample.ga_sessions_*`\n",
    "  WHERE\n",
    "    _TABLE_SUFFIX BETWEEN '20170701' AND '20170801'))"
   ]
  },
  {
   "cell_type": "markdown",
   "metadata": {},
   "source": [
    "When the query is complete, the results appear below the query. The\n",
    "results should look like the following:\n",
    "\n",
    "![Model evaluation results table](https://i.imgur.com/t6s7mhO.png)"
   ]
  },
  {
   "cell_type": "markdown",
   "metadata": {},
   "source": [
    "Because you performed a logistic regression, the results include the following\n",
    "columns:\n",
    "\n",
    "+ [`precision`](https://developers.google.com/machine-learning/glossary/#precision)\n",
    "+ [`recall`](https://developers.google.com/machine-learning/glossary/#recall)\n",
    "+ [`accuracy`](https://developers.google.com/machine-learning/glossary/#accuracy)\n",
    "+ [`f1_score`](https://en.wikipedia.org/wiki/F1_score)\n",
    "+ [`log_loss`](https://developers.google.com/machine-learning/glossary/#Log_Loss)\n",
    "+ [`roc_auc`](https://developers.google.com/machine-learning/glossary/#AUC)\n"
   ]
  },
  {
   "cell_type": "markdown",
   "metadata": {},
   "source": [
    "## Use your model to predict outcomes\n",
    "\n",
    "Now that you have evaluated your model, the next step is to use it to predict\n",
    "outcomes. You use your model to predict the number of transactions made by\n",
    "website visitors from each country. And you use it to predict purchases per user.\n",
    "\n",
    "To run the query that uses the model to predict the number of transactions and save as a DataFrame:"
   ]
  },
  {
   "cell_type": "code",
   "execution_count": 6,
   "metadata": {},
   "outputs": [
    {
     "name": "stderr",
     "output_type": "stream",
     "text": [
      "Query complete after 0.00s: 100%|██████████| 3/3 [00:00<00:00, 1725.10query/s]                        \n",
      "Downloading: 100%|██████████| 148736/148736 [00:01<00:00, 108578.58rows/s]\n"
     ]
    }
   ],
   "source": [
    "%%bigquery predictions\n",
    "SELECT\n",
    "  fullvisitorid,\n",
    "  country,\n",
    "  os,\n",
    "  is_mobile,\n",
    "  pageviews,\n",
    "  probs.prob as purchase_prediction_prob\n",
    "FROM ML.PREDICT(MODEL `bqml_tutorial_<USERNAME>.sample_model`, (\n",
    "  SELECT\n",
    "    fullvisitorid,\n",
    "    IFNULL(device.operatingSystem, \"\") AS os,\n",
    "    device.isMobile AS is_mobile,\n",
    "    IFNULL(totals.pageviews, 0) AS pageviews,\n",
    "    IFNULL(geoNetwork.country, \"\") AS country\n",
    "  FROM\n",
    "    `bigquery-public-data.google_analytics_sample.ga_sessions_*`\n",
    "  WHERE\n",
    "    _TABLE_SUFFIX BETWEEN '20170701' AND '20170801')), UNNEST(predicted_label_probs) as probs\n",
    "ORDER BY purchase_prediction_prob DESC"
   ]
  },
  {
   "cell_type": "markdown",
   "metadata": {},
   "source": [
    "Review the `purchase_prediction_prob` column to see the liklihood a site visitor is to purchase in terms of a percentage. "
   ]
  },
  {
   "cell_type": "code",
   "execution_count": 7,
   "metadata": {},
   "outputs": [
    {
     "data": {
      "text/html": [
       "<div>\n",
       "<style scoped>\n",
       "    .dataframe tbody tr th:only-of-type {\n",
       "        vertical-align: middle;\n",
       "    }\n",
       "\n",
       "    .dataframe tbody tr th {\n",
       "        vertical-align: top;\n",
       "    }\n",
       "\n",
       "    .dataframe thead th {\n",
       "        text-align: right;\n",
       "    }\n",
       "</style>\n",
       "<table border=\"1\" class=\"dataframe\">\n",
       "  <thead>\n",
       "    <tr style=\"text-align: right;\">\n",
       "      <th></th>\n",
       "      <th>fullvisitorid</th>\n",
       "      <th>country</th>\n",
       "      <th>os</th>\n",
       "      <th>is_mobile</th>\n",
       "      <th>pageviews</th>\n",
       "      <th>purchase_prediction_prob</th>\n",
       "    </tr>\n",
       "  </thead>\n",
       "  <tbody>\n",
       "    <tr>\n",
       "      <th>0</th>\n",
       "      <td>8388931032955052746</td>\n",
       "      <td>Taiwan</td>\n",
       "      <td>Chrome OS</td>\n",
       "      <td>False</td>\n",
       "      <td>186</td>\n",
       "      <td>9.999991e-01</td>\n",
       "    </tr>\n",
       "    <tr>\n",
       "      <th>1</th>\n",
       "      <td>057693500927581077</td>\n",
       "      <td>United States</td>\n",
       "      <td>Macintosh</td>\n",
       "      <td>False</td>\n",
       "      <td>175</td>\n",
       "      <td>9.999991e-01</td>\n",
       "    </tr>\n",
       "    <tr>\n",
       "      <th>2</th>\n",
       "      <td>6789528963693848193</td>\n",
       "      <td>United States</td>\n",
       "      <td>Chrome OS</td>\n",
       "      <td>False</td>\n",
       "      <td>169</td>\n",
       "      <td>9.999983e-01</td>\n",
       "    </tr>\n",
       "    <tr>\n",
       "      <th>3</th>\n",
       "      <td>332494308387844831</td>\n",
       "      <td>United States</td>\n",
       "      <td>Chrome OS</td>\n",
       "      <td>False</td>\n",
       "      <td>168</td>\n",
       "      <td>9.999981e-01</td>\n",
       "    </tr>\n",
       "    <tr>\n",
       "      <th>4</th>\n",
       "      <td>1280993661204347450</td>\n",
       "      <td>United States</td>\n",
       "      <td>Macintosh</td>\n",
       "      <td>False</td>\n",
       "      <td>145</td>\n",
       "      <td>9.999797e-01</td>\n",
       "    </tr>\n",
       "    <tr>\n",
       "      <th>...</th>\n",
       "      <td>...</td>\n",
       "      <td>...</td>\n",
       "      <td>...</td>\n",
       "      <td>...</td>\n",
       "      <td>...</td>\n",
       "      <td>...</td>\n",
       "    </tr>\n",
       "    <tr>\n",
       "      <th>148731</th>\n",
       "      <td>1280993661204347450</td>\n",
       "      <td>United States</td>\n",
       "      <td>Macintosh</td>\n",
       "      <td>False</td>\n",
       "      <td>145</td>\n",
       "      <td>2.028364e-05</td>\n",
       "    </tr>\n",
       "    <tr>\n",
       "      <th>148732</th>\n",
       "      <td>332494308387844831</td>\n",
       "      <td>United States</td>\n",
       "      <td>Chrome OS</td>\n",
       "      <td>False</td>\n",
       "      <td>168</td>\n",
       "      <td>1.854714e-06</td>\n",
       "    </tr>\n",
       "    <tr>\n",
       "      <th>148733</th>\n",
       "      <td>6789528963693848193</td>\n",
       "      <td>United States</td>\n",
       "      <td>Chrome OS</td>\n",
       "      <td>False</td>\n",
       "      <td>169</td>\n",
       "      <td>1.671000e-06</td>\n",
       "    </tr>\n",
       "    <tr>\n",
       "      <th>148734</th>\n",
       "      <td>057693500927581077</td>\n",
       "      <td>United States</td>\n",
       "      <td>Macintosh</td>\n",
       "      <td>False</td>\n",
       "      <td>175</td>\n",
       "      <td>8.874453e-07</td>\n",
       "    </tr>\n",
       "    <tr>\n",
       "      <th>148735</th>\n",
       "      <td>8388931032955052746</td>\n",
       "      <td>Taiwan</td>\n",
       "      <td>Chrome OS</td>\n",
       "      <td>False</td>\n",
       "      <td>186</td>\n",
       "      <td>8.512123e-07</td>\n",
       "    </tr>\n",
       "  </tbody>\n",
       "</table>\n",
       "<p>148736 rows × 6 columns</p>\n",
       "</div>"
      ],
      "text/plain": [
       "              fullvisitorid        country         os  is_mobile  pageviews  \\\n",
       "0       8388931032955052746         Taiwan  Chrome OS      False        186   \n",
       "1        057693500927581077  United States  Macintosh      False        175   \n",
       "2       6789528963693848193  United States  Chrome OS      False        169   \n",
       "3        332494308387844831  United States  Chrome OS      False        168   \n",
       "4       1280993661204347450  United States  Macintosh      False        145   \n",
       "...                     ...            ...        ...        ...        ...   \n",
       "148731  1280993661204347450  United States  Macintosh      False        145   \n",
       "148732   332494308387844831  United States  Chrome OS      False        168   \n",
       "148733  6789528963693848193  United States  Chrome OS      False        169   \n",
       "148734   057693500927581077  United States  Macintosh      False        175   \n",
       "148735  8388931032955052746         Taiwan  Chrome OS      False        186   \n",
       "\n",
       "        purchase_prediction_prob  \n",
       "0                   9.999991e-01  \n",
       "1                   9.999991e-01  \n",
       "2                   9.999983e-01  \n",
       "3                   9.999981e-01  \n",
       "4                   9.999797e-01  \n",
       "...                          ...  \n",
       "148731              2.028364e-05  \n",
       "148732              1.854714e-06  \n",
       "148733              1.671000e-06  \n",
       "148734              8.874453e-07  \n",
       "148735              8.512123e-07  \n",
       "\n",
       "[148736 rows x 6 columns]"
      ]
     },
     "execution_count": 7,
     "metadata": {},
     "output_type": "execute_result"
    }
   ],
   "source": [
    "predictions"
   ]
  },
  {
   "cell_type": "markdown",
   "metadata": {},
   "source": [
    "When the query is complete, the results appear below the query. The\n",
    "results should look like the following. Because model training is not\n",
    "deterministic, your results may differ.\n",
    "\n",
    "![Model predictions table](https://i.imgur.com/t6s7mhO.png)"
   ]
  },
  {
   "cell_type": "markdown",
   "metadata": {},
   "source": [
    "Use the following visualization to explore the distribution of prediction scores in the data set."
   ]
  },
  {
   "cell_type": "code",
   "execution_count": 8,
   "metadata": {},
   "outputs": [
    {
     "data": {
      "image/png": "[encoded data removed]",
      "text/plain": [
       "<Figure size 432x288 with 1 Axes>"
      ]
     },
     "metadata": {
      "needs_background": "light"
     },
     "output_type": "display_data"
    }
   ],
   "source": [
    "predictions.hist(bins=20, column=\"purchase_prediction_prob\");"
   ]
  },
  {
   "cell_type": "markdown",
   "metadata": {},
   "source": [
    "In the next example, you try to predict the number of transactions each website\n",
    "visitor will make. This query is identical to the previous query except for the\n",
    "`GROUP BY` clause. Here the `GROUP BY` clause &mdash; `GROUP BY fullVisitorId`\n",
    "&mdash; is used to group the results by visitor ID.\n",
    "\n",
    "To run the query that predicts purchases per user:"
   ]
  },
  {
   "cell_type": "code",
   "execution_count": 9,
   "metadata": {},
   "outputs": [
    {
     "name": "stderr",
     "output_type": "stream",
     "text": [
      "Query complete after 0.00s: 100%|██████████| 4/4 [00:00<00:00, 2174.90query/s]                        \n",
      "Downloading: 100%|██████████| 10/10 [00:01<00:00,  7.01rows/s]\n"
     ]
    },
    {
     "data": {
      "text/html": [
       "<div>\n",
       "<style scoped>\n",
       "    .dataframe tbody tr th:only-of-type {\n",
       "        vertical-align: middle;\n",
       "    }\n",
       "\n",
       "    .dataframe tbody tr th {\n",
       "        vertical-align: top;\n",
       "    }\n",
       "\n",
       "    .dataframe thead th {\n",
       "        text-align: right;\n",
       "    }\n",
       "</style>\n",
       "<table border=\"1\" class=\"dataframe\">\n",
       "  <thead>\n",
       "    <tr style=\"text-align: right;\">\n",
       "      <th></th>\n",
       "      <th>fullVisitorId</th>\n",
       "      <th>total_predicted_purchases</th>\n",
       "    </tr>\n",
       "  </thead>\n",
       "  <tbody>\n",
       "    <tr>\n",
       "      <th>0</th>\n",
       "      <td>9417857471295131045</td>\n",
       "      <td>4</td>\n",
       "    </tr>\n",
       "    <tr>\n",
       "      <th>1</th>\n",
       "      <td>112288330928895942</td>\n",
       "      <td>2</td>\n",
       "    </tr>\n",
       "    <tr>\n",
       "      <th>2</th>\n",
       "      <td>057693500927581077</td>\n",
       "      <td>2</td>\n",
       "    </tr>\n",
       "    <tr>\n",
       "      <th>3</th>\n",
       "      <td>2105122376016897629</td>\n",
       "      <td>2</td>\n",
       "    </tr>\n",
       "    <tr>\n",
       "      <th>4</th>\n",
       "      <td>489038402765684003</td>\n",
       "      <td>2</td>\n",
       "    </tr>\n",
       "    <tr>\n",
       "      <th>5</th>\n",
       "      <td>5073919761051630191</td>\n",
       "      <td>2</td>\n",
       "    </tr>\n",
       "    <tr>\n",
       "      <th>6</th>\n",
       "      <td>2158257269735455737</td>\n",
       "      <td>2</td>\n",
       "    </tr>\n",
       "    <tr>\n",
       "      <th>7</th>\n",
       "      <td>7420300501523012460</td>\n",
       "      <td>2</td>\n",
       "    </tr>\n",
       "    <tr>\n",
       "      <th>8</th>\n",
       "      <td>8388931032955052746</td>\n",
       "      <td>2</td>\n",
       "    </tr>\n",
       "    <tr>\n",
       "      <th>9</th>\n",
       "      <td>2969418676126258798</td>\n",
       "      <td>2</td>\n",
       "    </tr>\n",
       "  </tbody>\n",
       "</table>\n",
       "</div>"
      ],
      "text/plain": [
       "         fullVisitorId  total_predicted_purchases\n",
       "0  9417857471295131045                          4\n",
       "1   112288330928895942                          2\n",
       "2   057693500927581077                          2\n",
       "3  2105122376016897629                          2\n",
       "4   489038402765684003                          2\n",
       "5  5073919761051630191                          2\n",
       "6  2158257269735455737                          2\n",
       "7  7420300501523012460                          2\n",
       "8  8388931032955052746                          2\n",
       "9  2969418676126258798                          2"
      ]
     },
     "execution_count": 9,
     "metadata": {},
     "output_type": "execute_result"
    }
   ],
   "source": [
    "%%bigquery\n",
    "SELECT\n",
    "  fullVisitorId,\n",
    "  SUM(predicted_label) as total_predicted_purchases\n",
    "FROM ML.PREDICT(MODEL `bqml_tutorial_<USERNAME>.sample_model`, (\n",
    "  SELECT\n",
    "    IFNULL(device.operatingSystem, \"\") AS os,\n",
    "    device.isMobile AS is_mobile,\n",
    "    IFNULL(totals.pageviews, 0) AS pageviews,\n",
    "    IFNULL(geoNetwork.country, \"\") AS country,\n",
    "    fullVisitorId\n",
    "  FROM\n",
    "    `bigquery-public-data.google_analytics_sample.ga_sessions_*`\n",
    "  WHERE\n",
    "    _TABLE_SUFFIX BETWEEN '20170701' AND '20170801'))\n",
    "  GROUP BY fullVisitorId\n",
    "  ORDER BY total_predicted_purchases DESC\n",
    "  LIMIT 10"
   ]
  },
  {
   "cell_type": "markdown",
   "metadata": {},
   "source": [
    "When the query is complete, the results appear below the query. The\n",
    "results should look like the following:\n",
    "\n",
    "![Purchase predictions table](https://i.imgur.com/iCIBjDh.png)"
   ]
  },
  {
   "cell_type": "markdown",
   "metadata": {},
   "source": [
    "## Optional Step: Stream the data back into BigQuery\n",
    "\n",
    "Now that we've completed or analysis, we can save our predictions table back into BigQuery for storage for later use or joins with existing datasets. Because we saved the table as a `DataFrame` in the previous steps, we save this directly to the BigQuery and inherit the schema from the `DataFrame`."
   ]
  },
  {
   "cell_type": "code",
   "execution_count": 10,
   "metadata": {},
   "outputs": [
    {
     "name": "stdout",
     "output_type": "stream",
     "text": [
      "Dataset Activation is not found. Creating now.\n",
      "Dataset Activation created.\n",
      "Table Activation.Purchase_Prediction is not found. Loading table.\n",
      "ml-teaching-project.Activation.Purchase_Prediction\n"
     ]
    }
   ],
   "source": [
    "#Pulled in for exceptions\n",
    "from google.cloud.exceptions import NotFound\n",
    "\n",
    "#Creating table and dataset names.\n",
    "#UPDATE THESE IDs TO YOUR BIGQUERY SCHEMAS\n",
    "\n",
    "table_id = dataset_id + \".Purchase_Prediction\"\n",
    "\n",
    "#will check to see if the dataset already exists and will not create if already exists. Will create if doesn't exist.\n",
    "try:\n",
    "    client.get_dataset(dataset_id)  # Make an API request.\n",
    "    print(\"Dataset {} already exists, moving on to create Table.\".format(dataset_id))\n",
    "except NotFound:\n",
    "    print(\"Dataset {} is not found. Creating now.\".format(dataset_id))\n",
    "    client.create_dataset(\"Activation\")\n",
    "    print(\"Dataset {} created.\".format(dataset_id))\n",
    "\n",
    "#Will check to see if the table already exists and will not create if already exists. Will create if doesn't exist.\n",
    "try:\n",
    "    client.get_table(table_id)  # Make an API request.\n",
    "    print(\"Table {} already exists.\".format(table_id))\n",
    "except NotFound:\n",
    "    print(\"Table {} is not found. Loading table.\".format(table_id))\n",
    "    job = client.load_table_from_dataframe(predictions, table_id)\n",
    "    print(job.result().destination)\n"
   ]
  },
  {
   "cell_type": "markdown",
   "metadata": {},
   "source": [
    "To see how you might use this data set to push your predictions back into Google Analytics 360, see the [CRMint](https://google.github.io/crmint/docs/guides/) documentation."
   ]
  },
  {
   "cell_type": "markdown",
   "metadata": {},
   "source": [
    "## Cleaning up\n",
    "\n",
    "To delete the resources created by this tutorial, execute the following code to delete the dataset and its contents:"
   ]
  },
  {
   "cell_type": "code",
   "execution_count": null,
   "metadata": {},
   "outputs": [],
   "source": [
    "client.delete_dataset(dataset_id, delete_contents=True)"
   ]
  }
 ],
 "metadata": {
  "environment": {
   "name": "common-cpu.m76",
   "type": "gcloud",
   "uri": "gcr.io/deeplearning-platform-release/base-cpu:m76"
  },
  "kernelspec": {
   "display_name": "Python 3",
   "language": "python",
   "name": "python3"
  },
  "language_info": {
   "codemirror_mode": {
    "name": "ipython",
    "version": 3
   },
   "file_extension": ".py",
   "mimetype": "text/x-python",
   "name": "python",
   "nbconvert_exporter": "python",
   "pygments_lexer": "ipython3",
   "version": "3.7.10"
  }
 },
 "nbformat": 4,
 "nbformat_minor": 4
}
